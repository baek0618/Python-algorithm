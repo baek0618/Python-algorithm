{
  "nbformat": 4,
  "nbformat_minor": 0,
  "metadata": {
    "colab": {
      "name": "baekjoon15953.ipynb",
      "version": "0.3.2",
      "provenance": [],
      "include_colab_link": true
    },
    "kernelspec": {
      "name": "python3",
      "display_name": "Python 3"
    }
  },
  "cells": [
    {
      "cell_type": "markdown",
      "metadata": {
        "id": "view-in-github",
        "colab_type": "text"
      },
      "source": [
        "<a href=\"https://colab.research.google.com/github/baek0618/algorithm/blob/master/baekjoon15953.ipynb\" target=\"_parent\"><img src=\"https://colab.research.google.com/assets/colab-badge.svg\" alt=\"Open In Colab\"/></a>"
      ]
    },
    {
      "metadata": {
        "id": "oJOJX6EujvjA",
        "colab_type": "text"
      },
      "cell_type": "markdown",
      "source": [
        "# 백준 15953 : 상금 헌터\n",
        "\n",
        "<br>\n",
        "2017년에 이어, 2018년에도 카카오 코드 페스티벌이 개최된다!\n",
        "\n",
        "\n",
        "\n",
        "카카오 코드 페스티벌에서 빠질 수 없는 것은 바로 상금이다. 2017년에 개최된 제1회 코드 페스티벌에서는, 본선 진출자 100명 중 21명에게 아래와 같은 기준으로 상금을 부여하였다.\n",
        "\n",
        "순위\t상금\t인원\n",
        "1등\t500만원\t1명\n",
        "2등\t300만원\t2명\n",
        "3등\t200만원\t3명\n",
        "4등\t50만원\t4명\n",
        "5등\t30만원\t5명\n",
        "6등\t10만원\t6명\n",
        "2018년에 개최될 제2회 코드 페스티벌에서는 상금의 규모가 확대되어, 본선 진출자 64명 중 31명에게 아래와 같은 기준으로 상금을 부여할 예정이다.\n",
        "\n",
        "순위\t상금\t인원\n",
        "1등\t512만원\t1명\n",
        "2등\t256만원\t2명\n",
        "3등\t128만원\t4명\n",
        "4등\t64만원\t8명\n",
        "5등\t32만원\t16명\n",
        "\n",
        "\n",
        "제이지는 자신이 코드 페스티벌에 출전하여 받을 수 있을 상금이 얼마인지 궁금해졌다. 그는 자신이 두 번의 코드 페스티벌 본선 대회에서 얻을 수 있을 총 상금이 얼마인지 알아보기 위해, 상상력을 발휘하여 아래와 같은 가정을 하였다.\n",
        "\n",
        "제1회 코드 페스티벌 본선에 진출하여 a등(1 ≤ a ≤ 100)등을 하였다. 단, 진출하지 못했다면 a = 0으로 둔다.\n",
        "\n",
        "제2회 코드 페스티벌 본선에 진출하여 b등(1 ≤ b ≤ 64)등을 할 것이다. 단, 진출하지 못했다면 b = 0으로 둔다.\n",
        "\n",
        "제이지는 이러한 가정에 따라, 자신이 받을 수 있는 총 상금이 얼마인지를 알고 싶어한다.\n",
        "\n",
        "###입력\n",
        "첫 번째 줄에 제이지가 상상력을 발휘하여 가정한 횟수 T(1 ≤ T ≤ 1,000)가 주어진다.\n",
        "\n",
        "다음 T개 줄에는 한 줄에 하나씩 제이지가 해본 가정에 대한 정보가 주어진다. 각 줄에는 두 개의 음이 아닌 정수 a(0 ≤ a ≤ 100)와 b(0 ≤ b ≤ 64)가 공백 하나를 사이로 두고 주어진다.\n",
        "\n",
        "\n",
        "\n",
        "\n",
        "###출력\n",
        "각 가정이 성립할 때 제이지가 받을 상금을 원 단위의 정수로 한 줄에 하나씩 출력한다. 입력이 들어오는 순서대로 출력해야 한다.\n",
        "\n",
        "\n",
        "\n",
        "\n",
        "\n"
      ]
    },
    {
      "metadata": {
        "id": "fR01u8zhjfuQ",
        "colab_type": "code",
        "colab": {}
      },
      "cell_type": "code",
      "source": [
        "import itertools\n",
        "t=int(input())\n",
        "\n",
        "m = [[500]*1,[300]*2,[200]*3, [50]*4,[30]*5,[10]*6]\n",
        "m = list(itertools.chain(*m))\n",
        "\n",
        "m2 = [[512]*1,[256]*2,[128]*4,[64]*8,[32]*16]\n",
        "m2 = list(itertools.chain(*m2))\n",
        "\n",
        "for i in range(t):\n",
        "    get=0\n",
        "    a,b = map(int,input().split()) \n",
        "    if (a<=len(m)) and a!=0: get+=m[a-1]*10000\n",
        "    if (b<=len(m2)) and b!=0: get+=m2[b-1]*10000\n",
        "    print(get)\n"
      ],
      "execution_count": 0,
      "outputs": []
    }
  ]
}