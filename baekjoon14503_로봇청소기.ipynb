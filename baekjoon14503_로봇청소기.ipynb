{
  "nbformat": 4,
  "nbformat_minor": 0,
  "metadata": {
    "colab": {
      "name": "baekjoon14503.ipynb",
      "version": "0.3.2",
      "provenance": [],
      "include_colab_link": true
    },
    "kernelspec": {
      "name": "python3",
      "display_name": "Python 3"
    }
  },
  "cells": [
    {
      "cell_type": "markdown",
      "metadata": {
        "id": "view-in-github",
        "colab_type": "text"
      },
      "source": [
        "<a href=\"https://colab.research.google.com/github/baek0618/algorithm/blob/master/baekjoon14503.ipynb\" target=\"_parent\"><img src=\"https://colab.research.google.com/assets/colab-badge.svg\" alt=\"Open In Colab\"/></a>"
      ]
    },
    {
      "metadata": {
        "id": "oJOJX6EujvjA",
        "colab_type": "text"
      },
      "cell_type": "markdown",
      "source": [
        "# 백준 14503 : 로봇 청소기\n",
        "\n",
        "<br>\n",
        "로봇 청소기가 주어졌을 때, 청소하는 영역의 개수를 구하는 프로그램을 작성하시오.\n",
        "\n",
        "로봇 청소기가 있는 장소는 N×M 크기의 직사각형으로 나타낼 수 있으며, 1×1크기의 정사각형 칸으로 나누어져 있다. 각각의 칸은 벽 또는 빈 칸이다. 청소기는 바라보는 방향이 있으며, 이 방향은 동, 서, 남, 북중 하나이다. 지도의 각 칸은 (r, c)로 나타낼 수 있고, r은 북쪽으로부터 떨어진 칸의 개수, c는 서쪽으로 부터 떨어진 칸의 개수이다.\n",
        "\n",
        "로봇 청소기는 다음과 같이 작동한다.\n",
        "\n",
        "현재 위치를 청소한다.\n",
        "현재 위치에서 현재 방향을 기준으로 왼쪽방향부터 차례대로 탐색을 진행한다.\n",
        "왼쪽 방향에 아직 청소하지 않은 공간이 존재한다면, 그 방향으로 회전한 다음 한 칸을 전진하고 1번부터 진행한다.\n",
        "왼쪽 방향에 청소할 공간이 없다면, 그 방향으로 회전하고 2번으로 돌아간다.\n",
        "네 방향 모두 청소가 이미 되어있거나 벽인 경우에는, 바라보는 방향을 유지한 채로 한 칸 후진을 하고 2번으로 돌아간다.\n",
        "네 방향 모두 청소가 이미 되어있거나 벽이면서, 뒤쪽 방향이 벽이라 후진도 할 수 없는 경우에는 작동을 멈춘다.\n",
        "로봇 청소기는 이미 청소되어있는 칸을 또 청소하지 않으며, 벽을 통과할 수 없다.\n",
        "\n",
        "###입력\n",
        "첫째 줄에 세로 크기 N과 가로 크기 M이 주어진다. (3 ≤ N, M ≤ 50)\n",
        "\n",
        "둘째 줄에 로봇 청소기가 있는 칸의 좌표 (r, c)와 바라보는 방향 d가 주어진다. d가 0인 경우에는 북쪽을, 1인 경우에는 동쪽을, 2인 경우에는 남쪽을, 3인 경우에는 서쪽을 바라보고 있는 것이다.\n",
        "\n",
        "셋째 줄부터 N개의 줄에 장소의 상태가 북쪽부터 남쪽 순서대로, 각 줄은 서쪽부터 동쪽 순서대로 주어진다. 빈 칸은 0, 벽은 1로 주어진다. 장소의 모든 외곽은 벽이다.\n",
        "\n",
        "로봇 청소기가 있는 칸의 상태는 항상 빈 칸이다.\n",
        "\n",
        "\n",
        "\n",
        "###출력\n",
        "로봇 청소기가 청소하는 칸의 개수를 출력한다.\n",
        "\n",
        "\n",
        "\n"
      ]
    },
    {
      "metadata": {
        "id": "fR01u8zhjfuQ",
        "colab_type": "code",
        "colab": {}
      },
      "cell_type": "code",
      "source": [
        "N,M=map(int,input().split())\n",
        "r,c,l=map(int,input().split()) \n",
        "a=[]\n",
        "[a.append(list(map(int,input().split()))) for i in range(N)]\n",
        "def clean(m, r, c, N, j=1):\n",
        "    NW = [[-1, 0], [0, 1], [1, 0], [0, -1]]\n",
        "    if m[r][c] == 0:\n",
        "        m[r][c] = '*'\n",
        "    for i in range(1, 5):\n",
        "        r2,c2 = r + NW[N - i][0],c + NW[N - i][1]\n",
        "        if m[r2][c2] == 0:\n",
        "            ans=(N-i+4)%4\n",
        "            return clean(m, r2, c2, ans, j + 1)\n",
        "    r2,c2 = r + NW[N - 2][0],c + NW[N - 2][1]\n",
        "    if m[r2][c2]==1: return j\n",
        "    return clean(m, r2, c2, N, j)\n",
        "print(clean(a,r,c,l))"
      ],
      "execution_count": 0,
      "outputs": []
    }
  ]
}
