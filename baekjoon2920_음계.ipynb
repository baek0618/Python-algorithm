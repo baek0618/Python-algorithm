{
  "nbformat": 4,
  "nbformat_minor": 0,
  "metadata": {
    "colab": {
      "name": "baekjoon2920.ipynb",
      "version": "0.3.2",
      "provenance": [],
      "include_colab_link": true
    },
    "kernelspec": {
      "name": "python3",
      "display_name": "Python 3"
    }
  },
  "cells": [
    {
      "cell_type": "markdown",
      "metadata": {
        "id": "view-in-github",
        "colab_type": "text"
      },
      "source": [
        "<a href=\"https://colab.research.google.com/github/baek0618/algorithm/blob/master/baekjoon2920.ipynb\" target=\"_parent\"><img src=\"https://colab.research.google.com/assets/colab-badge.svg\" alt=\"Open In Colab\"/></a>"
      ]
    },
    {
      "metadata": {
        "id": "oJOJX6EujvjA",
        "colab_type": "text"
      },
      "cell_type": "markdown",
      "source": [
        "# 백준 2920 : 음계\n",
        "\n",
        "<br>\n",
        "다장조는 c d e f g a b C, 총 8개 음으로 이루어져있다. 이 문제에서 8개 음은 다음과 같이 숫자로 바꾸어 표현한다. c는 1로, d는 2로, ..., C를 8로 바꾼다.\n",
        "\n",
        "1부터 8까지 차례대로 연주한다면 ascending, 8부터 1까지 차례대로 연주한다면 descending, 둘 다 아니라면 mixed 이다.\n",
        "\n",
        "연주한 순서가 주어졌을 때, 이것이 ascending인지, descending인지, 아니면 mixed인지 판별하는 프로그램을 작성하시오.\n",
        "\n",
        "###입력\n",
        "첫째 줄에 8개 숫자가 주어진다. 이 숫자는 문제 설명에서 설명한 음이며, 1부터 8까지 숫자가 한 번씩 등장한다.\n",
        "\n",
        "\n",
        "\n",
        "###출력\n",
        "첫째 줄에 ascending, descending, mixed 중 하나를 출력한다.\n",
        "\n",
        "\n"
      ]
    },
    {
      "metadata": {
        "id": "fR01u8zhjfuQ",
        "colab_type": "code",
        "colab": {
          "base_uri": "https://localhost:8080/",
          "height": 53
        },
        "outputId": "a36588b1-66bf-423a-8840-6d452ab1abda"
      },
      "cell_type": "code",
      "source": [
        "a= list(map(int,input().split()))\n",
        "cnt=0\n",
        "for i in range(len(a)-1):\n",
        "    if (a[i]-a[i+1])==1:\n",
        "        cnt+=1\n",
        "    elif (a[i]-a[i+1])==-1:\n",
        "        cnt-=1\n",
        "    \n",
        "if (cnt==7):\n",
        "    print('descending')\n",
        "elif cnt==-7:\n",
        "    print('ascending')\n",
        "else :\n",
        "    print('mixed')"
      ],
      "execution_count": 15,
      "outputs": [
        {
          "output_type": "stream",
          "text": [
            "8 7 6 5 4 3 2 1\n",
            "descending\n"
          ],
          "name": "stdout"
        }
      ]
    }
  ]
}
