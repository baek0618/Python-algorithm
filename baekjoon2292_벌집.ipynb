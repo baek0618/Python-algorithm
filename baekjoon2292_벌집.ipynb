{
  "nbformat": 4,
  "nbformat_minor": 0,
  "metadata": {
    "colab": {
      "name": "baekjoon2292.ipynb",
      "version": "0.3.2",
      "provenance": [],
      "include_colab_link": true
    },
    "kernelspec": {
      "name": "python3",
      "display_name": "Python 3"
    }
  },
  "cells": [
    {
      "cell_type": "markdown",
      "metadata": {
        "id": "view-in-github",
        "colab_type": "text"
      },
      "source": [
        "<a href=\"https://colab.research.google.com/github/baek0618/algorithm/blob/master/baekjoon2292.ipynb\" target=\"_parent\"><img src=\"https://colab.research.google.com/assets/colab-badge.svg\" alt=\"Open In Colab\"/></a>"
      ]
    },
    {
      "metadata": {
        "id": "oJOJX6EujvjA",
        "colab_type": "text"
      },
      "cell_type": "markdown",
      "source": [
        "# 백준 2292 : 벌집\n",
        "![대체 텍스트](https://t1.daumcdn.net/cfile/tistory/99D857425AC231830F)\n",
        "\n",
        "<br>\n",
        "위의 그림과 같이 육각형으로 이루어진 벌집이 있다. 그림에서 보는 바와 같이 중앙의 방 1부터 시작해서 이웃하는 방에 돌아가면서 1씩 증가하는 번호를 주소로 매길 수 있다. 숫자 N이 주어졌을 때, 벌집의 중앙 1에서 N번 방까지 최소 개수의 방을 지나서 갈 때 몇 개의 방을 지나가는지(시작과 끝을 포함하여)를 계산하는 프로그램을 작성하시오. 예를 들면, 13까지는 3개, 58까지는 5개를 지난다."
      ]
    },
    {
      "metadata": {
        "id": "fR01u8zhjfuQ",
        "colab_type": "code",
        "colab": {
          "base_uri": "https://localhost:8080/",
          "height": 53
        },
        "outputId": "adfa709b-5161-457b-b429-c3c31952e4f2"
      },
      "cell_type": "code",
      "source": [
        "num = int(input())\n",
        "\n",
        "cnt=1\n",
        "sum=1\n",
        "\n",
        "while sum<num:\n",
        "    \n",
        "    sum+=6*cnt\n",
        "    cnt+=1\n",
        "        \n",
        "print(cnt)"
      ],
      "execution_count": 6,
      "outputs": [
        {
          "output_type": "stream",
          "text": [
            "13\n",
            "3\n"
          ],
          "name": "stdout"
        }
      ]
    }
  ]
}
