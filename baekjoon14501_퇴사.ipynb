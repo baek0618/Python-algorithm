{
  "nbformat": 4,
  "nbformat_minor": 0,
  "metadata": {
    "colab": {
      "name": "baekjoon14501_퇴사.ipynb",
      "version": "0.3.2",
      "provenance": [],
      "include_colab_link": true
    },
    "kernelspec": {
      "name": "python3",
      "display_name": "Python 3"
    }
  },
  "cells": [
    {
      "cell_type": "markdown",
      "metadata": {
        "id": "view-in-github",
        "colab_type": "text"
      },
      "source": [
        "<a href=\"https://colab.research.google.com/github/baek0618/algorithm/blob/master/baekjoon14501_%ED%87%B4%EC%82%AC.ipynb\" target=\"_parent\"><img src=\"https://colab.research.google.com/assets/colab-badge.svg\" alt=\"Open In Colab\"/></a>"
      ]
    },
    {
      "metadata": {
        "id": "UcWwQpLqZxJb",
        "colab_type": "text"
      },
      "cell_type": "markdown",
      "source": [
        "#백준 14501 : 퇴사\n",
        "\n",
        "![대체 텍스트](http://mblogthumb2.phinf.naver.net/MjAxNzA4MTNfMjA3/MDAxNTAyNjA3NjU1NDg3.Mn_iCqX1zZqLivEnLomHq44wCn0JYiJahEuO4i7Z0vwg.EsVTaROyxpAQNU_zWHXtuKhMi97D_lpZtTQNEQvlOBog.PNG.chanyup89/%EC%BA%A1%EC%B2%98.PNG?type=w2)\n",
        "\n",
        "###입력<br>\n",
        "첫째 줄에 N (1 ≤ N ≤ 15)이 주어진다.\n",
        "<br>둘째줄부터 N개의 줄에 Ti와 Pi가 공백으로 구분되어서 주어지며, 1일부터 N일까지 순서대로 주어진다. (1 ≤ Ti ≤ 5, 1 ≤ Pi ≤ 1,000)<br>\n",
        "\n",
        "###출력<br>\n",
        "첫째 줄에 백준이가 얻을 수 있는 최대 이익을 출력한다."
      ]
    },
    {
      "metadata": {
        "id": "Xi_waLagZu2o",
        "colab_type": "code",
        "colab": {}
      },
      "cell_type": "code",
      "source": [
        "n = int(input().strip())\n",
        "\n",
        "d = []\n",
        "p = []\n",
        "for _ in range(n):\n",
        "    day, price = map(int, input().split())\n",
        "    d.append(day)\n",
        "    p.append(price)\n",
        "\n",
        "#print(d,p)\n",
        "\n",
        "\n",
        "def twesa(n,d,p):\n",
        "    \n",
        "    m = [0] * (n + 1)\n",
        "    for i in range(n + 1):\n",
        "        if i > 0:\n",
        "            m[i] = m[i - 1]\n",
        "\n",
        "        for bb in range(1, 6):\n",
        "            nd = i - bb\n",
        "\n",
        "            if nd >= 0:\n",
        "                \n",
        "                day  = d[nd]\n",
        "                price = p[nd]\n",
        "\n",
        "                if day != bb:\n",
        "                    price = 0\n",
        "\n",
        "                m[i] = max(m[i], m[i - bb] + price)\n",
        "    return m[n]\n",
        "\n",
        "\n",
        "print(twesa(n,d,p))"
      ],
      "execution_count": 0,
      "outputs": []
    }
  ]
}