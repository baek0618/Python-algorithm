{
  "nbformat": 4,
  "nbformat_minor": 0,
  "metadata": {
    "colab": {
      "name": "baekjoon1475.ipynb",
      "version": "0.3.2",
      "provenance": [],
      "include_colab_link": true
    },
    "kernelspec": {
      "name": "python3",
      "display_name": "Python 3"
    }
  },
  "cells": [
    {
      "cell_type": "markdown",
      "metadata": {
        "id": "view-in-github",
        "colab_type": "text"
      },
      "source": [
        "<a href=\"https://colab.research.google.com/github/baek0618/algorithm/blob/master/baekjoon1475.ipynb\" target=\"_parent\"><img src=\"https://colab.research.google.com/assets/colab-badge.svg\" alt=\"Open In Colab\"/></a>"
      ]
    },
    {
      "metadata": {
        "id": "oJOJX6EujvjA",
        "colab_type": "text"
      },
      "cell_type": "markdown",
      "source": [
        "# 백준 1475 : 방번호\n",
        "\n",
        "<br>\n",
        "다솜이는 은진이의 옆집에 새로 이사왔다. 다솜이는 자기 방 번호를 예쁜 플라스틱 숫자로 문에 붙이려고 한다.\n",
        "\n",
        "다솜이의 옆집에서는 플라스틱 숫자를 한 세트로 판다. 한 세트에는 0번부터 9번까지 숫자가 하나씩 들어있다. 다솜이의 방 번호가 주어졌을 때, 필요한 세트의 개수의 최솟값을 출력하시오. (6은 9를 뒤집어서 이용할 수 있고, 9는 6을 뒤집어서 이용할 수 있다.)\n",
        "\n",
        "###입력\n",
        "첫째 줄에 다솜이의 방 번호 N이 주어진다. N은 1,000,000보다 작거나 같은 자연수 또는 0이다.\n",
        "\n",
        "###출력\n",
        "첫째 줄에 필요한 세트의 개수를 출력한다."
      ]
    },
    {
      "metadata": {
        "id": "fR01u8zhjfuQ",
        "colab_type": "code",
        "colab": {
          "base_uri": "https://localhost:8080/",
          "height": 53
        },
        "outputId": "ecca8f17-dba7-484d-86e2-d72300852fca"
      },
      "cell_type": "code",
      "source": [
        "a = input()\n",
        "a = list(a.replace('9','6'))\n",
        "\n",
        "st = ['0','1','2','3','4','5','6','6','7','8']\n",
        "st2 = ['0','1','2','3','4','5','6','6','7','8']\n",
        "\n",
        "cnt =0\n",
        "buy=1\n",
        "while len(a)!=0:\n",
        "    if st.count(a[0]) >=1:\n",
        "        st.remove(a[0])\n",
        "        a.remove(a[0])\n",
        "    else :\n",
        "        st.extend(st2)\n",
        "        buy+=1\n",
        "    \n",
        "print(buy)    "
      ],
      "execution_count": 8,
      "outputs": [
        {
          "output_type": "stream",
          "text": [
            "9999\n",
            "2\n"
          ],
          "name": "stdout"
        }
      ]
    }
  ]
}
